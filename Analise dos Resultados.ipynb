{
 "cells": [
  {
   "cell_type": "code",
   "execution_count": 1,
   "metadata": {},
   "outputs": [],
   "source": [
    "import numpy as np\n",
    "import seaborn as sns\n",
    "import matplotlib as mpl, matplotlib.pyplot as plt\n",
    "%matplotlib inline\n",
    "from IPython import display"
   ]
  },
  {
   "cell_type": "code",
   "execution_count": 2,
   "metadata": {},
   "outputs": [],
   "source": [
    "def getData(file_path):\n",
    "    runs = []\n",
    "    values = []\n",
    "    with open(file_path) as f:\n",
    "        for l in f:\n",
    "            if l == \"\\n\":\n",
    "                runs.append(values[:])\n",
    "                values.clear()\n",
    "                continue\n",
    "\n",
    "            error = l.split(\" \")\n",
    "            error = [float(w.replace(\"\\n\", \"\")) for w in error]\n",
    "            values.append(error[-1])\n",
    "    return runs\n",
    "\n",
    "def get_Results(data):\n",
    "    results = {'Best': [], 'Worst': [], 'Median': [], 'Mean': [], 'Std.': []}\n",
    "    \n",
    "    for i in range(len(data)):\n",
    "        results['Best'].append(np.min(data[i]))\n",
    "        results['Worst'].append(np.max(data[i]))\n",
    "        results['Median'].append(np.median(data[i]))\n",
    "        results['Mean'].append(np.mean(data[i]))\n",
    "        results['Std.'].append(np.std(data[i]))\n",
    "        \n",
    "    return results\n",
    "    \n",
    "def get_jSO_Results(file_path):\n",
    "    results = {'Best': [], 'Worst': [], 'Median': [], 'Mean': [], 'Std.': []}\n",
    "    \n",
    "    with open(file_path) as f:\n",
    "        for l in f:\n",
    "            if l == \"\\n\":\n",
    "                return results\n",
    "            \n",
    "            words = l.split(\" \")\n",
    "            #words = [float(w.replace(\"\\n\", \"\")) for w in words]\n",
    "            results['Best'].append(words[1])\n",
    "            results['Worst'].append(words[2])\n",
    "            results['Median'].append(words[3])\n",
    "            results['Mean'].append(words[4])\n",
    "            results['Std.'].append(words[5])\n",
    "        return results\n",
    "    \n",
    "def print_comparsion(statistic):\n",
    "    for func in range(30):\n",
    "        print(\"f\"+ str(func+1),\"{:.4e}\".format(float(jSO_d10[statistic][func])) , \"{:.4e}\".format(m_1_e10_d10[statistic][func]), \"{:.4e}\".format(m_c_e10_d10[statistic][func]), \"{:.4e}\".format(x_c_e10_d10[statistic][func]), end=\"\")\n",
    "        print()"
   ]
  },
  {
   "cell_type": "code",
   "execution_count": 45,
   "metadata": {},
   "outputs": [],
   "source": [
    "jSO = {}\n",
    "jSO['d10'] = get_jSO_Results('../Codes-of-Top-Methods-and-results/jSO-SOURCE-RESULTS/D10.rez')\n",
    "jSO['d30'] = get_jSO_Results('../Codes-of-Top-Methods-and-results/jSO-SOURCE-RESULTS/D30.rez')\n",
    "jSO['d50'] = get_jSO_Results('../Codes-of-Top-Methods-and-results/jSO-SOURCE-RESULTS/D50.rez')\n",
    "jSO['d100'] = get_jSO_Results('../Codes-of-Top-Methods-and-results/jSO-SOURCE-RESULTS/D100.rez')"
   ]
  },
  {
   "cell_type": "code",
   "execution_count": 19,
   "metadata": {},
   "outputs": [],
   "source": [
    "jSO['d10']['Mean'] = alg_data['10']['20']['0.5']['J']['Mean']"
   ]
  },
  {
   "cell_type": "code",
   "execution_count": 44,
   "metadata": {},
   "outputs": [],
   "source": [
    "bkp = jSO['d10']['Mean']"
   ]
  },
  {
   "cell_type": "code",
   "execution_count": 6,
   "metadata": {},
   "outputs": [],
   "source": [
    "pfx_path = \"C:/Users/rapha/Documents/Estudos (Doutorado)/Resultados/Experimento I/E\""
   ]
  },
  {
   "cell_type": "code",
   "execution_count": 113,
   "metadata": {},
   "outputs": [],
   "source": [
    "def get_alg_data_expI(dim, els, per, alg, alg_data):\n",
    "    if dim not in alg_data: \n",
    "        alg_data[dim] = {}\n",
    "        \n",
    "    if els not in alg_data[dim]: \n",
    "        alg_data[dim][els] = {}\n",
    "        \n",
    "    if per not in alg_data[dim][els]:\n",
    "        alg_data[dim][els][per] = {}\n",
    "            \n",
    "    #if dim not in alg_data[els][per]:\n",
    "    #    alg_data[dim][els][per][alg] = {}\n",
    "        \n",
    "    alg_data[dim][els][per][alg] = get_Results(getData(pfx_path + els + \"/\" + per + \"/\" + alg  +  \"/rawDataD\" + dim + \".dat\"))\n",
    "    \n",
    "    global contador\n",
    "    cmb_dict[contador] = (els, per, alg)\n",
    "    contador = contador + 1\n",
    "    \n",
    "    return alg_data\n",
    "\n",
    "def print_results(statistic, D, E, data_size):\n",
    "    wins = {}\n",
    "    vals = {}\n",
    "    \n",
    "    wins['jSO'] = 0\n",
    "    for cmb in range(data_size):\n",
    "        wins[cmb + 1] = 0\n",
    "    \n",
    "    print(\"\\\\begin{table}[H]\\n\"\n",
    "    \"\\centering\\n\"\n",
    "    \"\\caption{Algorithms comparison for $D=\" + str(D) +\"$. }\\n\" \n",
    "    \"\\label{tab:results\"+ str(statistic) +\"D=\" + str(D) +\"}\\n\"\n",
    "    \"\\\\begin{tabular}{|l|\"+ (data_size+1) * \"c|\" +\"}\\n\"\n",
    "    \" \\hline\\n\")\n",
    "    \n",
    "    print(\"& jSO \", end=\"\")\n",
    "    for alg in range(data_size):\n",
    "        print(\" & \" + str(alg+1), end=\"\")\n",
    "    \n",
    "    print(\" \\\\\\\\ \\n\")\n",
    "    #print(\"  \\hline \\hline\")\n",
    "    for func in range(30):\n",
    "        vals['jSO'] = float(jSO['d' + str(D)][statistic][func])\n",
    "        for cmb in range(data_size):\n",
    "            els = cmb_dict[cmb+1][0]\n",
    "            per = cmb_dict[cmb+1][1]\n",
    "            alg = cmb_dict[cmb+1][2]\n",
    "            \n",
    "            vals[cmb + 1] = alg_data[D][els][per][alg][statistic][func]\n",
    "            \n",
    "        vals = {key: value for key, value in sorted(vals.items(), key=lambda item: item[1])}\n",
    "        sorted_keys = list(vals.keys())  \n",
    "        \n",
    "        rank = {}\n",
    "        pos = 0\n",
    "        current = -1.0\n",
    "        count = 0\n",
    "        _sum = 0\n",
    "        aux = {}\n",
    "        for i in range(len(sorted_keys)):\n",
    "            if vals[sorted_keys[i]] != current:\n",
    "                pos += 1\n",
    "                \n",
    "                count = 1\n",
    "                _sum = (i+1)\n",
    "                \n",
    "                current = vals[sorted_keys[i]]\n",
    "                rank[sorted_keys[i]] = pos\n",
    "            else:\n",
    "                rank[sorted_keys[i]] = pos\n",
    "                _sum += (i+1)\n",
    "                count += 1\n",
    "            \n",
    "            if count > 0:\n",
    "                aux[pos] = _sum / count\n",
    "            else:\n",
    "                aux[pos] = i+1\n",
    "                 \n",
    "        final_rank = {}\n",
    "        for r in rank:\n",
    "            final_rank[r] = aux[rank[r]]\n",
    "        \n",
    "        key_min = min(vals.keys(), key=(lambda k: vals[k]))\n",
    "        best = vals[key_min]\n",
    "            \n",
    "        wins['jSO'] += final_rank['jSO']\n",
    "        for cmb in range(data_size):\n",
    "            wins[cmb + 1] += final_rank[cmb + 1]\n",
    "                \n",
    "    print(\"\\hline\")\n",
    "    print(\"$wins$ \", end=\"\")\n",
    "    \n",
    "    key_min = min(wins.keys(), key=(lambda k: wins[k]))\n",
    "    best = wins[key_min]\n",
    "        \n",
    "    if wins['jSO'] == best:\n",
    "        print(\" & \\\\textbf{\" + str(wins['jSO'])+\"}\", end=\"\")\n",
    "    else:\n",
    "        print(\" & \" + str(wins['jSO']), end=\"\")\n",
    "            \n",
    "    for cmb in range(data_size):\n",
    "        if wins[cmb+1] == best:\n",
    "            print(\" & \\\\textbf{\" + str(wins[cmb+1])+\"}\", end=\"\")\n",
    "        else:\n",
    "            print(\" & \" + str(wins[cmb+1]), end=\"\")\n",
    "    \n",
    "    print(\" \\\\\\\\\")\n",
    "    print(\"\\hline\")\n",
    "    print(\"\\end{tabular}\")\n",
    "    print(\"\\end{table}\")\n",
    "\n",
    "def print_baseline_comparson(statistic, D, E):\n",
    "    wins = {}\n",
    "    vals = {}\n",
    "     \n",
    "    #for cv in cv_list:\n",
    "    #    wins[cv] = 0\n",
    "        \n",
    "    for cmb in range(Size):\n",
    "        wins[cmb + 1] = 0\n",
    "    \n",
    "    print(\"\\\\begin{table}[H]\\n\"\n",
    "    \"\\centering\\n\"\n",
    "    \"\\caption{Algorithms comparison for $D=\" + str(D) +\"$. }\\n\" \n",
    "    \"\\label{tab:results\"+ str(statistic) +\"D=\" + str(D) +\"}\\n\"\n",
    "    \"\\\\begin{tabular}{|l|\"+ (Size+1) * \"c|\" +\"}\\n\"\n",
    "    \" \\hline\\n\")\n",
    "    \n",
    "    for alg in range(Size):\n",
    "        print(\" & \" + str(alg+1), end=\"\")\n",
    "        \n",
    "    print(\" \\\\\\\\ \\n\")\n",
    "    for func in range(30):\n",
    "        for cmb in range(Size):\n",
    "            els = cmb_dict[cmb+1][0]\n",
    "            per = cmb_dict[cmb+1][1]\n",
    "            alg = cmb_dict[cmb+1][2]\n",
    "            \n",
    "            #print(E, alg, D, percent, strategy, statistic, func)\n",
    "            \n",
    "            vals[cmb + 1] = alg_data[D][els][per][alg][statistic][func]\n",
    "            \n",
    "            #print(vals[cmb + 1], float(jSO['d'+str(D)][statistic][func]))\n",
    "            if vals[cmb + 1] <= float(jSO['d'+str(D)][statistic][func]):\n",
    "                wins[cmb + 1] += 1\n",
    "        \n",
    "    print(\"\\hline\")\n",
    "    print(\"$wins$ \", end=\"\")\n",
    "    \n",
    "    key_min = max(wins.keys(), key=(lambda k: wins[k]))\n",
    "    best = wins[key_min]\n",
    "        \n",
    "    for cmb in range(Size):\n",
    "        if wins[cmb+1] == best:\n",
    "            print(\" & \\\\textbf{\" + str(wins[cmb+1])+\"}\", end=\"\")\n",
    "        else:\n",
    "            print(\" & \" + str(wins[cmb+1]), end=\"\")\n",
    "            \n",
    "    \n",
    "    print(\" \\\\\\\\\")\n",
    "    print(\"\\hline\")\n",
    "    print(\"\\end{tabular}\")\n",
    "    print(\"\\end{table}\")"
   ]
  },
  {
   "cell_type": "code",
   "execution_count": 139,
   "metadata": {},
   "outputs": [
    {
     "name": "stdout",
     "output_type": "stream",
     "text": [
      "30 20 0.3 CVTP\n",
      "30 20 0.3 XCVTP\n",
      "30 20 0.3 KTP\n",
      "30 20 0.5 CVTP\n",
      "30 20 0.5 XCVTP\n",
      "30 20 0.5 KTP\n",
      "30 20 0.8 CVTP\n",
      "30 20 0.8 XCVTP\n",
      "30 20 0.8 KTP\n",
      "30 40 0.3 CVTP\n",
      "30 40 0.3 XCVTP\n",
      "30 40 0.3 KTP\n",
      "30 40 0.5 CVTP\n",
      "30 40 0.5 XCVTP\n",
      "30 40 0.5 KTP\n",
      "30 40 0.8 CVTP\n",
      "30 40 0.8 XCVTP\n",
      "30 40 0.8 KTP\n",
      "30 80 0.3 CVTP\n",
      "30 80 0.3 XCVTP\n",
      "30 80 0.3 KTP\n",
      "30 80 0.5 CVTP\n",
      "30 80 0.5 XCVTP\n",
      "30 80 0.5 KTP\n",
      "30 80 0.8 CVTP\n",
      "30 80 0.8 XCVTP\n",
      "30 80 0.8 KTP\n"
     ]
    }
   ],
   "source": [
    "els_list = ['20', '40', '80']\n",
    "alg_list = ['CVTP', 'XCVTP', 'KTP']\n",
    "dim_list = ['30']\n",
    "per_list  = ['0.3', '0.5', '0.8']\n",
    "\n",
    "contador = 1\n",
    "cmb_dict = {}\n",
    "alg_data = {}\n",
    "\n",
    "for dim in dim_list:\n",
    "    for els in els_list:\n",
    "        for per in per_list:\n",
    "            for alg in alg_list:\n",
    "                print(dim, els, per, alg)\n",
    "                alg_data = get_alg_data_expI(dim, els, per, alg, alg_data)\n",
    "                \n",
    "Size = len(cmb_dict)"
   ]
  },
  {
   "cell_type": "code",
   "execution_count": 140,
   "metadata": {},
   "outputs": [],
   "source": [
    "CVTP = alg_data['30']['80']['0.8']['CVTP']['Mean']\n",
    "XCVTP = alg_data['30']['80']['0.8']['XCVTP']['Mean']\n",
    "KTP = alg_data['30']['40']['0.8']['KTP']['Mean']"
   ]
  },
  {
   "cell_type": "code",
   "execution_count": 132,
   "metadata": {},
   "outputs": [
    {
     "name": "stdout",
     "output_type": "stream",
     "text": [
      "\\textbf{1}: (20, 0.3, XCVTP) &\n",
      "\\textbf{2}: (20, 0.5, XCVTP) &\n",
      "\\textbf{3}: (20, 0.8, XCVTP) \\\\\n",
      "\\hline\n",
      "\\textbf{4}: (40, 0.3, XCVTP) &\n",
      "\\textbf{5}: (40, 0.5, XCVTP) &\n",
      "\\textbf{6}: (40, 0.8, XCVTP) \\\\\n",
      "\\hline\n",
      "\\textbf{7}: (80, 0.3, XCVTP) &\n",
      "\\textbf{8}: (80, 0.5, XCVTP) &\n",
      "\\textbf{9}: (80, 0.8, XCVTP) \\\\\n",
      "\\hline\n"
     ]
    }
   ],
   "source": [
    "for key, value in cmb_dict.items():\n",
    "    print(\"\\\\textbf{\" + str(key) + \"}: \", end=\"\")\n",
    "    \n",
    "    print('(' + value[0]+', ' + value[1] + ', ' + value[2] + ')', end=\"\")\n",
    "    if key > 0 and key % 3 == 0:\n",
    "        print(\" \\\\\\\\\")\n",
    "        print(\"\\hline\")\n",
    "    else:\n",
    "        print(\" &\")"
   ]
  },
  {
   "cell_type": "code",
   "execution_count": 135,
   "metadata": {},
   "outputs": [
    {
     "name": "stdout",
     "output_type": "stream",
     "text": [
      "\\begin{table}[H]\n",
      "\\centering\n",
      "\\caption{Algorithms comparison for $D=30$. }\n",
      "\\label{tab:resultsMeanD=30}\n",
      "\\begin{tabular}{|l|c|c|c|c|c|c|c|c|c|c|}\n",
      " \\hline\n",
      "\n",
      "& jSO  & 1 & 2 & 3 & 4 & 5 & 6 & 7 & 8 & 9 \\\\ \n",
      "\n",
      "\\hline\n",
      "$wins$  & \\textbf{102.5} & 228.5 & 161.0 & 108.5 & 230.5 & 171.5 & 124.5 & 229.0 & 172.5 & 121.5 \\\\\n",
      "\\hline\n",
      "\\end{tabular}\n",
      "\\end{table}\n"
     ]
    }
   ],
   "source": [
    "print_results('Mean', '30', '20', Size)"
   ]
  },
  {
   "cell_type": "markdown",
   "metadata": {
    "scrolled": true
   },
   "source": [
    "cmb_dict"
   ]
  },
  {
   "cell_type": "code",
   "execution_count": 137,
   "metadata": {
    "scrolled": true
   },
   "outputs": [
    {
     "name": "stdout",
     "output_type": "stream",
     "text": [
      "\\begin{table}[H]\n",
      "\\centering\n",
      "\\caption{Algorithms comparison for $D=30$. }\n",
      "\\label{tab:resultsMeanD=30}\n",
      "\\begin{tabular}{|l|c|c|c|c|c|c|c|c|c|c|}\n",
      " \\hline\n",
      "\n",
      " & 1 & 2 & 3 & 4 & 5 & 6 & 7 & 8 & 9 \\\\ \n",
      "\n",
      "\\hline\n",
      "$wins$  & 9 & 11 & \\textbf{14} & 9 & 10 & 12 & 8 & 10 & 12 \\\\\n",
      "\\hline\n",
      "\\end{tabular}\n",
      "\\end{table}\n"
     ]
    }
   ],
   "source": [
    "print_baseline_comparson('Mean', '30', '20')"
   ]
  },
  {
   "cell_type": "code",
   "execution_count": 34,
   "metadata": {},
   "outputs": [
    {
     "data": {
      "text/plain": [
       "('40', '0.3', 'XCVTP')"
      ]
     },
     "execution_count": 34,
     "metadata": {},
     "output_type": "execute_result"
    }
   ],
   "source": [
    "cmb_dict[2]"
   ]
  },
  {
   "cell_type": "code",
   "execution_count": 145,
   "metadata": {},
   "outputs": [
    {
     "data": {
      "text/plain": [
       "('80', '0.5', 'XCVTP')"
      ]
     },
     "execution_count": 145,
     "metadata": {},
     "output_type": "execute_result"
    }
   ],
   "source": [
    "cmb_dict[11]"
   ]
  },
  {
   "cell_type": "code",
   "execution_count": 147,
   "metadata": {},
   "outputs": [
    {
     "data": {
      "text/plain": [
       "('40', '0.3', 'KTP')"
      ]
     },
     "execution_count": 147,
     "metadata": {},
     "output_type": "execute_result"
    }
   ],
   "source": [
    "cmb_dict[6]"
   ]
  },
  {
   "cell_type": "code",
   "execution_count": 143,
   "metadata": {},
   "outputs": [],
   "source": [
    "def print_results_(statistic, D, E, data_size):\n",
    "    wins = {}\n",
    "    vals = {}\n",
    "    \n",
    "    wins['jSO'] = 0\n",
    "    for cmb in ['CVTP', 'XCVTP', 'KTP']:\n",
    "        wins[cmb] = 0\n",
    "    \n",
    "    print(\"\\\\begin{table}[H]\\n\"\n",
    "    \"\\centering\\n\"\n",
    "    \"\\caption{Algorithms comparison for $D=\" + str(D) +\"$. }\\n\" \n",
    "    \"\\label{tab:results\"+ str(statistic) +\"D=\" + str(D) +\"}\\n\"\n",
    "    \"\\\\begin{tabular}{|l|\"+ 4 * \"c|\" +\"}\\n\"\n",
    "    \" \\hline\\n\")\n",
    "    \n",
    "    print(\"& jSO \", end=\"\")\n",
    "    for alg in ['CVTP', 'XCVTP', 'KTP']:\n",
    "        print(\" & \" + alg, end=\"\")\n",
    "    \n",
    "    print(\" \\\\\\\\ \\n\")\n",
    "    #print(\"  \\hline \\hline\")\n",
    "    for func in range(30):\n",
    "        vals['jSO'] = float(jSO['d' + str(D)][statistic][func])\n",
    "        vals['CVTP'] = CVTP[func]\n",
    "        vals['XCVTP'] = XCVTP[func]\n",
    "        vals['KTP'] = KTP[func]\n",
    "            \n",
    "        vals = {key: value for key, value in sorted(vals.items(), key=lambda item: item[1])}\n",
    "        sorted_keys = list(vals.keys())  \n",
    "        \n",
    "        rank = {}\n",
    "        pos = 0\n",
    "        current = -1.0\n",
    "        count = 0\n",
    "        _sum = 0\n",
    "        aux = {}\n",
    "        for i in range(len(sorted_keys)):\n",
    "            if vals[sorted_keys[i]] != current:\n",
    "                pos += 1\n",
    "                \n",
    "                count = 1\n",
    "                _sum = (i+1)\n",
    "                \n",
    "                current = vals[sorted_keys[i]]\n",
    "                rank[sorted_keys[i]] = pos\n",
    "            else:\n",
    "                rank[sorted_keys[i]] = pos\n",
    "                _sum += (i+1)\n",
    "                count += 1\n",
    "            \n",
    "            if count > 0:\n",
    "                aux[pos] = _sum / count\n",
    "            else:\n",
    "                aux[pos] = i+1\n",
    "                 \n",
    "        final_rank = {}\n",
    "        for r in rank:\n",
    "            final_rank[r] = aux[rank[r]]\n",
    "        \n",
    "        key_min = min(vals.keys(), key=(lambda k: vals[k]))\n",
    "        best = vals[key_min]\n",
    "            \n",
    "        wins['jSO'] += final_rank['jSO']\n",
    "        wins['CVTP']  += final_rank['CVTP']\n",
    "        wins['XCVTP']  += final_rank['XCVTP']\n",
    "        wins['KTP'] += final_rank['KTP']\n",
    "                \n",
    "    print(\"\\hline\")\n",
    "    print(\"$wins$ \", end=\"\")\n",
    "    \n",
    "    key_min = min(wins.keys(), key=(lambda k: wins[k]))\n",
    "    best = wins[key_min]\n",
    "        \n",
    "    if wins['jSO'] == best:\n",
    "        print(\" & \\\\textbf{\" + str(wins['jSO'])+\"}\", end=\"\")\n",
    "    else:\n",
    "        print(\" & \" + str(wins['jSO']), end=\"\")\n",
    "        \n",
    "    if wins['CVTP'] == best:\n",
    "        print(\" & \\\\textbf{\" + str(wins['CVTP'])+\"}\", end=\"\")\n",
    "    else:\n",
    "        print(\" & \" + str(wins['CVTP']), end=\"\")\n",
    "        \n",
    "    if wins['XCVTP'] == best:\n",
    "        print(\" & \\\\textbf{\" + str(wins['XCVTP'])+\"}\", end=\"\")\n",
    "    else:\n",
    "        print(\" & \" + str(wins['XCVTP']), end=\"\")\n",
    "        \n",
    "    if wins['KTP'] == best:\n",
    "        print(\" & \\\\textbf{\" + str(wins['KTP'])+\"}\", end=\"\")\n",
    "    else:\n",
    "        print(\" & \" + str(wins['KTP']), end=\"\")\n",
    "    \n",
    "    \n",
    "    print(\" \\\\\\\\\")\n",
    "    print(\"\\hline\")\n",
    "    print(\"\\end{tabular}\")\n",
    "    print(\"\\end{table}\")"
   ]
  },
  {
   "cell_type": "code",
   "execution_count": 110,
   "metadata": {},
   "outputs": [
    {
     "name": "stdout",
     "output_type": "stream",
     "text": [
      "\\begin{table}[H]\n",
      "\\centering\n",
      "\\caption{Algorithms comparison for $D=10$. }\n",
      "\\label{tab:resultsMeanD=10}\n",
      "\\begin{tabular}{|l|c|c|c|c|}\n",
      " \\hline\n",
      "\n",
      "& jSO  & CVTP & XCVTP & KTP \\\\ \n",
      "\n",
      "\\hline\n",
      "$wins$  & 74.0 & \\textbf{72.0} & 82.0 & \\textbf{72.0} \\\\\n",
      "\\hline\n",
      "\\end{tabular}\n",
      "\\end{table}\n"
     ]
    }
   ],
   "source": [
    "print_results_('Mean', '10', '20', Size)"
   ]
  },
  {
   "cell_type": "code",
   "execution_count": 144,
   "metadata": {},
   "outputs": [
    {
     "name": "stdout",
     "output_type": "stream",
     "text": [
      "\\begin{table}[H]\n",
      "\\centering\n",
      "\\caption{Algorithms comparison for $D=30$. }\n",
      "\\label{tab:resultsMeanD=30}\n",
      "\\begin{tabular}{|l|c|c|c|c|}\n",
      " \\hline\n",
      "\n",
      "& jSO  & CVTP & XCVTP & KTP \\\\ \n",
      "\n",
      "\\hline\n",
      "$wins$  & \\textbf{62.5} & 65.5 & 86.5 & 85.5 \\\\\n",
      "\\hline\n",
      "\\end{tabular}\n",
      "\\end{table}\n"
     ]
    }
   ],
   "source": [
    "print_results_('Mean', '30', '20', Size)"
   ]
  },
  {
   "cell_type": "code",
   "execution_count": null,
   "metadata": {},
   "outputs": [],
   "source": []
  }
 ],
 "metadata": {
  "kernelspec": {
   "display_name": "Python 3",
   "language": "python",
   "name": "python3"
  },
  "language_info": {
   "codemirror_mode": {
    "name": "ipython",
    "version": 3
   },
   "file_extension": ".py",
   "mimetype": "text/x-python",
   "name": "python",
   "nbconvert_exporter": "python",
   "pygments_lexer": "ipython3",
   "version": "3.8.3"
  }
 },
 "nbformat": 4,
 "nbformat_minor": 4
}
